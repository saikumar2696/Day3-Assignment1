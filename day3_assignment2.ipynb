{
  "nbformat": 4,
  "nbformat_minor": 0,
  "metadata": {
    "colab": {
      "name": "day3- assignment2.ipynb",
      "provenance": []
    },
    "kernelspec": {
      "name": "python3",
      "display_name": "Python 3"
    }
  },
  "cells": [
    {
      "cell_type": "code",
      "metadata": {
        "colab": {
          "base_uri": "https://localhost:8080/"
        },
        "id": "KgzS4dDkDkyZ",
        "outputId": "dc211658-774f-4c68-c1c0-080c977eda00"
      },
      "source": [
        "#  program checks if pilots landing plane safely at 1000ft\r\n",
        "altitude=1000\r\n",
        "if altitude<1001:\r\n",
        "  print(\"SAFE TO LAND\")\r\n",
        "elif altitude < 5000:\r\n",
        "  print(\"TRY AROUND\")\r\n",
        "else:\r\n",
        "   print(\"BRING DOWN TO 1000\")  "
      ],
      "execution_count": 14,
      "outputs": [
        {
          "output_type": "stream",
          "text": [
            "SAFE TO LAND\n"
          ],
          "name": "stdout"
        }
      ]
    },
    {
      "cell_type": "code",
      "metadata": {
        "colab": {
          "base_uri": "https://localhost:8080/"
        },
        "id": "6pSS7sCnHr1q",
        "outputId": "66d8ce32-e655-4f55-97b2-f3161929c64b"
      },
      "source": [
        "altitude=4500\r\n",
        "if altitude<1001:\r\n",
        "  print(\"SAFE TO LAND\")\r\n",
        "elif altitude < 5000:\r\n",
        "  print(\"TRY AROUND\")\r\n",
        "else:\r\n",
        "   print(\"BRING DOWN TO 1000\")  \r\n",
        "  "
      ],
      "execution_count": 15,
      "outputs": [
        {
          "output_type": "stream",
          "text": [
            "TRY AROUND\n"
          ],
          "name": "stdout"
        }
      ]
    },
    {
      "cell_type": "code",
      "metadata": {
        "colab": {
          "base_uri": "https://localhost:8080/"
        },
        "id": "EsKcn3uVJUHd",
        "outputId": "fec902d3-ebe1-4517-f9cb-d0945eb1643b"
      },
      "source": [
        "altitude=6500\r\n",
        "if altitude<1001:\r\n",
        "  print(\"SAFE TO LAND\")\r\n",
        "elif altitude < 5000:\r\n",
        "  print(\"TRY AROUND\")\r\n",
        "else:\r\n",
        "   print(\"BRING DOWN TO 1000\")  "
      ],
      "execution_count": 12,
      "outputs": [
        {
          "output_type": "stream",
          "text": [
            "BRING DOWN TO 1000\n"
          ],
          "name": "stdout"
        }
      ]
    },
    {
      "cell_type": "code",
      "metadata": {
        "id": "GlL42RbtJjJc"
      },
      "source": [
        ""
      ],
      "execution_count": null,
      "outputs": []
    }
  ]
}